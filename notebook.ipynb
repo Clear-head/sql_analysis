{
 "cells": [
  {
   "cell_type": "code",
   "execution_count": 1,
   "id": "fcd5afad",
   "metadata": {},
   "outputs": [],
   "source": [
    "import pandas as pd\n",
    "import mysql.connector\n",
    "\n",
    "# 1. MySQL 연결\n",
    "conn = mysql.connector.connect(\n",
    "    host=\"localhost\",\n",
    "    user=\"root\",\n",
    "    password=\"1234\",\n",
    "    database=\"분석실습\"\n",
    ")\n",
    "cursor = conn.cursor()\n"
   ]
  },
  {
   "cell_type": "code",
   "execution_count": 5,
   "id": "2242d5e5",
   "metadata": {},
   "outputs": [
    {
     "data": {
      "text/plain": [
       "'9.3.0'"
      ]
     },
     "execution_count": 5,
     "metadata": {},
     "output_type": "execute_result"
    }
   ],
   "source": [
    "mysql.connector.__version__"
   ]
  },
  {
   "cell_type": "code",
   "execution_count": 6,
   "id": "3467f9da",
   "metadata": {},
   "outputs": [
    {
     "data": {
      "text/plain": [
       "(5369, 8)"
      ]
     },
     "execution_count": 6,
     "metadata": {},
     "output_type": "execute_result"
    }
   ],
   "source": [
    "# 2. 파일에서 데이터프레임으로 읽기 (탭 구분자라고 가정)\n",
    "df_customer = pd.read_csv(\"mig/customer.txt\", sep=\"\\t\", dtype=str,  encoding='cp949')\n",
    "df_customer.shape\n",
    "#(5369, 8)"
   ]
  },
  {
   "cell_type": "code",
   "execution_count": 7,
   "id": "d64c1810",
   "metadata": {},
   "outputs": [
    {
     "data": {
      "text/plain": [
       "(541909, 8)"
      ]
     },
     "execution_count": 7,
     "metadata": {},
     "output_type": "execute_result"
    }
   ],
   "source": [
    "df_sales = pd.read_csv(\"mig/sales.txt\", sep=\"\\t\", dtype=str,  encoding='cp949')\n",
    "df_sales.shape"
   ]
  },
  {
   "cell_type": "code",
   "execution_count": 8,
   "id": "ebb65486",
   "metadata": {},
   "outputs": [
    {
     "name": "stdout",
     "output_type": "stream",
     "text": [
      "총 5369건 삽입 완료\n"
     ]
    }
   ],
   "source": [
    "# 3. CUSTOMER INSERT\n",
    "for row in df_customer.itertuples(index=False, name=None):\n",
    "    cursor.execute(\"\"\"\n",
    "        INSERT INTO CUSTOMER (mem_no, last_name, first_name, gd, birth_dt, entr_dt, grade, sign_up_ch)\n",
    "        VALUES (%s, %s, %s, %s, %s, %s, %s, %s)\n",
    "    \"\"\", row)\n",
    "    \n",
    "conn.commit()  # 변경사항 저장\n",
    "\n",
    "cursor.execute(\"SELECT COUNT(*) FROM CUSTOMER\")\n",
    "print(f\"총 {cursor.fetchone()[0]}건 삽입 완료\")"
   ]
  },
  {
   "cell_type": "code",
   "execution_count": 9,
   "id": "b2dd4c5b",
   "metadata": {},
   "outputs": [
    {
     "data": {
      "text/plain": [
       "InvoiceNo      0\n",
       "StockCode      0\n",
       "Description    0\n",
       "Quantity       0\n",
       "InvoiceDate    0\n",
       "UnitPrice      0\n",
       "CustomerID     0\n",
       "Country        0\n",
       "dtype: int64"
      ]
     },
     "execution_count": 9,
     "metadata": {},
     "output_type": "execute_result"
    }
   ],
   "source": [
    "# 4. SALES 데이터전처리\n",
    "df_sales = df_sales.dropna(subset=[\"CustomerID\"])\n",
    "df_sales[\"CustomerID\"] = df_sales[\"CustomerID\"].astype(int)\n",
    "\n",
    "# 날짜 및 숫자 변환\n",
    "df_sales[\"Quantity\"] = df_sales[\"Quantity\"].astype(int)\n",
    "df_sales[\"UnitPrice\"] = df_sales[\"UnitPrice\"].astype(float)\n",
    "df_sales[\"CustomerID\"] = df_sales[\"CustomerID\"].astype(int)\n",
    "\n",
    "# DATETIME 변환\n",
    "df_sales[\"InvoiceDate\"] = pd.to_datetime(df_sales[\"InvoiceDate\"], errors='coerce')\n",
    "df_sales[\"InvoiceDate\"] = df_sales[\"InvoiceDate\"].dt.strftime('%Y-%m-%d %H:%M:%S')\n",
    "df_sales.isna().sum()"
   ]
  },
  {
   "cell_type": "code",
   "execution_count": 10,
   "id": "266d74b7",
   "metadata": {},
   "outputs": [
    {
     "name": "stdout",
     "output_type": "stream",
     "text": [
      "총 406829건 삽입 완료\n"
     ]
    }
   ],
   "source": [
    "# 5. SALES INSERT\n",
    "df_sales = df_sales.astype(object)\n",
    "rows = [tuple(x) for x in df_sales.to_records(index=False)]\n",
    "cursor.executemany(\"\"\"\n",
    "    INSERT INTO SALES (InvoiceNo, StockCode, Description, Quantity, InvoiceDate, UnitPrice, CustomerID, Country)\n",
    "    VALUES (%s, %s, %s, %s, %s, %s, %s, %s)\n",
    "\"\"\", rows)\n",
    "\n",
    "conn.commit()\n",
    "\n",
    "cursor.execute(\"SELECT COUNT(*) FROM SALES\")\n",
    "print(f\"총 {cursor.fetchone()[0]}건 삽입 완료\")"
   ]
  },
  {
   "cell_type": "code",
   "execution_count": 3,
   "id": "0db3bb4f",
   "metadata": {},
   "outputs": [
    {
     "name": "stdout",
     "output_type": "stream",
     "text": [
      "데이터 삽입 완료\n"
     ]
    }
   ],
   "source": [
    "# 6. 종료\n",
    "cursor.close()\n",
    "conn.close()\n",
    "print(\"데이터 삽입 완료\")\n"
   ]
  },
  {
   "cell_type": "markdown",
   "id": "4b262d71",
   "metadata": {},
   "source": [
    "# 매출 트렌드"
   ]
  },
  {
   "cell_type": "code",
   "execution_count": 4,
   "id": "c86707ce",
   "metadata": {},
   "outputs": [
    {
     "name": "stdout",
     "output_type": "stream",
     "text": [
      "                    0       1    2  3  4\n",
      "0 2010-12-01 08:26:00  139.12   40  1  1\n",
      "1 2010-12-01 08:28:00   22.20   12  1  1\n",
      "2 2010-12-01 08:34:00  348.78   98  2  1\n",
      "3 2010-12-01 08:35:00   17.85    3  1  1\n",
      "4 2010-12-01 08:45:00  855.86  449  1  1\n"
     ]
    }
   ],
   "source": [
    "conn = mysql.connector.connect(\n",
    "    host=\"localhost\",\n",
    "    user=\"root\",\n",
    "    password=\"1234\",\n",
    "    database=\"분석실습\"\n",
    ")\n",
    "cursor = conn.cursor()\n",
    "\n",
    "\n",
    "cursor.execute(\"\"\"\n",
    "                SELECT invoicedate\n",
    "               , SUM(unitprice*quantity) AS 매출액\n",
    "               , SUM(quantity) AS 주문수량\n",
    "               , COUNT(DISTINCT invoiceno) AS 주문건수\n",
    "               , COUNT(DISTINCT customerid) AS 주문고객수\n",
    "               FROM sales\n",
    "               GROUP BY invoicedate\n",
    "               ORDER BY invoicedate\n",
    "\"\"\")\n",
    "\n",
    "\n",
    "df = pd.DataFrame(cursor.fetchall())\n",
    "print(df.head(5))\n"
   ]
  },
  {
   "cell_type": "markdown",
   "id": "df9c3f56",
   "metadata": {},
   "source": [
    "## 국가별 매출 현황"
   ]
  },
  {
   "cell_type": "code",
   "execution_count": 5,
   "id": "3839698b",
   "metadata": {},
   "outputs": [
    {
     "name": "stdout",
     "output_type": "stream",
     "text": [
      "           0          1      2    3   4\n",
      "0  Australia  137077.27  83653   69   9\n",
      "1    Austria   10154.32   4827   19  11\n",
      "2    Bahrain     548.40    260    2   2\n",
      "3    Belgium   40910.96  23152  119  25\n",
      "4     Brazil    1143.60    356    1   1\n"
     ]
    }
   ],
   "source": [
    "cursor.execute(\"\"\"\n",
    "                SELECT country\n",
    "               , SUM(unitprice*quantity) AS 매출액\n",
    "               , SUM(quantity) AS 주문수량\n",
    "               , COUNT(DISTINCT invoiceno) AS 주문건수\n",
    "               , COUNT(DISTINCT customerid) AS 주문고객수\n",
    "               FROM sales\n",
    "               GROUP BY country\n",
    "\"\"\")\n",
    "\n",
    "\n",
    "df = pd.DataFrame(cursor.fetchall())\n",
    "print(df.head(5))"
   ]
  },
  {
   "cell_type": "markdown",
   "id": "70ddb176",
   "metadata": {},
   "source": [
    "## 국가, 제품별"
   ]
  },
  {
   "cell_type": "code",
   "execution_count": 6,
   "id": "9db7b0b4",
   "metadata": {},
   "outputs": [
    {
     "name": "stdout",
     "output_type": "stream",
     "text": [
      "     country stockcode     매출액 주문수량  주문건수  주문고객수\n",
      "0  Australia     15036  432.00  600     1      1\n",
      "1  Australia   15056BL   17.85    3     1      1\n",
      "2  Australia    16161P  136.00  400     1      1\n",
      "3  Australia    16169E   10.50   25     1      1\n",
      "4  Australia     20665   17.70    6     1      1\n"
     ]
    }
   ],
   "source": [
    "cursor.execute(\"\"\"\n",
    "                SELECT country\n",
    "               , stockcode\n",
    "               , SUM(unitprice*quantity) AS 매출액\n",
    "               , SUM(quantity) AS 주문수량\n",
    "               , COUNT(DISTINCT invoiceno) AS 주문건수\n",
    "               , COUNT(DISTINCT customerid) AS 주문고객수\n",
    "               FROM sales\n",
    "               GROUP BY country, stockcode\n",
    "\"\"\")\n",
    "\n",
    "col = [\"country\", \"stockcode\", \"매출액\", \"주문수량\", \"주문건수\", \"주문고객수\"]\n",
    "df = pd.DataFrame(cursor.fetchall(), columns=col)\n",
    "print(df.head(5))"
   ]
  },
  {
   "cell_type": "markdown",
   "id": "300edbe2",
   "metadata": {},
   "source": [
    "## 특정 제품의 매출 지표"
   ]
  },
  {
   "cell_type": "code",
   "execution_count": 7,
   "id": "02a623e1",
   "metadata": {},
   "outputs": [
    {
     "name": "stdout",
     "output_type": "stream",
     "text": [
      "       매출액 주문수량  주문건수  주문고객수\n",
      "0  1195.00  840   100     86\n"
     ]
    }
   ],
   "source": [
    "cursor.execute(\"\"\"\n",
    "                SELECT SUM(unitprice*quantity) AS 매출액\n",
    "               , SUM(quantity) AS 주문수량\n",
    "               , COUNT(DISTINCT invoiceno) AS 주문건수\n",
    "               , COUNT(DISTINCT customerid) AS 주문고객수\n",
    "               FROM sales\n",
    "               WHERE stockcode = 21615\n",
    "\"\"\")\n",
    "\n",
    "col = [\"매출액\", \"주문수량\", \"주문건수\", \"주문고객수\"]\n",
    "df = pd.DataFrame(cursor.fetchall(), columns=col)\n",
    "print(df)"
   ]
  },
  {
   "cell_type": "code",
   "execution_count": 8,
   "id": "931168e1",
   "metadata": {},
   "outputs": [
    {
     "name": "stdout",
     "output_type": "stream",
     "text": [
      "          invoicedate     매출액 주문수량  주문건수  주문고객수\n",
      "0 2010-12-01 08:45:00   39.60   24     1      1\n",
      "1 2010-12-01 09:41:00    3.30    2     1      1\n",
      "2 2010-12-01 09:58:00  540.00  432     1      1\n",
      "3 2010-12-01 11:49:00    8.25    5     1      1\n",
      "4 2010-12-01 13:17:00    3.30    2     1      1\n"
     ]
    }
   ],
   "source": [
    "cursor.execute(\"\"\"\n",
    "                SELECT invoicedate\n",
    "               , SUM(unitprice*quantity) AS 매출액\n",
    "               , SUM(quantity) AS 주문수량\n",
    "               , COUNT(DISTINCT invoiceno) AS 주문건수\n",
    "               , COUNT(DISTINCT customerid) AS 주문고객수\n",
    "               FROM sales\n",
    "               WHERE stockcode IN ('21615', '21731')\n",
    "               GROUP BY invoicedate\n",
    "\"\"\")\n",
    "\n",
    "col = [\"invoicedate\", \"매출액\", \"주문수량\", \"주문건수\", \"주문고객수\"]\n",
    "df = pd.DataFrame(cursor.fetchall(), columns=col)\n",
    "print(df.head(5))"
   ]
  },
  {
   "cell_type": "markdown",
   "id": "9895570f",
   "metadata": {},
   "source": [
    "## 이벤트 효과 분석"
   ]
  },
  {
   "cell_type": "code",
   "execution_count": 9,
   "id": "96be2678",
   "metadata": {},
   "outputs": [
    {
     "name": "stdout",
     "output_type": "stream",
     "text": [
      "       기간구분        매출액    주문수량  주문건수  주문고객수\n",
      "0    이벤트 기간  509349.88  277034   966    705\n",
      "1  이벤트 비교기간  348331.09  215201   802    603\n"
     ]
    }
   ],
   "source": [
    "cursor.execute(\"\"\"\n",
    "                SELECT CASE WHEN invoicedate BETWEEN '2011-09-10' AND '2011-09-25' THEN '이벤트 기간'\n",
    "                            WHEN invoicedate BETWEEN '2011-08-10' AND '2011-08-25' THEN '이벤트 비교기간'\n",
    "                            END AS 기간구분 \n",
    "               , SUM(unitprice*quantity) AS 매출액\n",
    "               , SUM(quantity) AS 주문수량\n",
    "               , COUNT(DISTINCT invoiceno) AS 주문건수\n",
    "               , COUNT(DISTINCT customerid) AS 주문고객수\n",
    "               FROM sales\n",
    "               WHERE invoicedate BETWEEN '2011-09-10' AND '2011-09-25' \n",
    "                    OR invoicedate BETWEEN '2011-08-10' AND '2011-08-25'\n",
    "               GROUP BY CASE WHEN invoicedate BETWEEN '2011-09-10' AND '2011-09-25' THEN '이벤트 기간'\n",
    "                            WHEN invoicedate BETWEEN '2011-08-10' AND '2011-08-25' THEN '이벤트 비교기간'\n",
    "                            END\n",
    "\"\"\")\n",
    "\n",
    "col = [\"기간구분\", \"매출액\", \"주문수량\", \"주문건수\", \"주문고객수\"]\n",
    "df = pd.DataFrame(cursor.fetchall(), columns=col)\n",
    "print(df.head(5))"
   ]
  },
  {
   "cell_type": "markdown",
   "id": "be283258",
   "metadata": {},
   "source": [
    "## 이벤트 제품 효과 분석 (시기별)"
   ]
  },
  {
   "cell_type": "code",
   "execution_count": 10,
   "id": "bbcb6ec4",
   "metadata": {},
   "outputs": [
    {
     "name": "stdout",
     "output_type": "stream",
     "text": [
      "       기간구분    매출액 주문수량  주문건수  주문고객수\n",
      "0    이벤트 기간  58.15  115     8      8\n",
      "1  이벤트 비교기간  13.35   28     5      5\n"
     ]
    }
   ],
   "source": [
    "cursor.execute(\"\"\"\n",
    "                SELECT CASE WHEN invoicedate BETWEEN '2011-09-10' AND '2011-09-25' THEN '이벤트 기간'\n",
    "                            WHEN invoicedate BETWEEN '2011-08-10' AND '2011-08-25' THEN '이벤트 비교기간'\n",
    "                            END AS 기간구분 \n",
    "               , SUM(unitprice*quantity) AS 매출액\n",
    "               , SUM(quantity) AS 주문수량\n",
    "               , COUNT(DISTINCT invoiceno) AS 주문건수\n",
    "               , COUNT(DISTINCT customerid) AS 주문고객수\n",
    "               FROM sales\n",
    "               WHERE (invoicedate BETWEEN '2011-09-10' AND '2011-09-25' \n",
    "                    OR invoicedate BETWEEN '2011-08-10' AND '2011-08-25')\n",
    "                    AND stockcode IN ('17012A', '17012C', '17021', '17084BN')\n",
    "               GROUP BY CASE WHEN invoicedate BETWEEN '2011-09-10' AND '2011-09-25' THEN '이벤트 기간'\n",
    "                            WHEN invoicedate BETWEEN '2011-08-10' AND '2011-08-25' THEN '이벤트 비교기간'\n",
    "                            END\n",
    "\"\"\")\n",
    "\n",
    "col = [\"기간구분\", \"매출액\", \"주문수량\", \"주문건수\", \"주문고객수\"]\n",
    "df = pd.DataFrame(cursor.fetchall(), columns=col)\n",
    "print(df.head(5))"
   ]
  },
  {
   "cell_type": "markdown",
   "id": "647cbc23",
   "metadata": {},
   "source": [
    "## 특정 제품 구매 고객 정보"
   ]
  },
  {
   "cell_type": "code",
   "execution_count": 11,
   "id": "ef75c166",
   "metadata": {},
   "outputs": [
    {
     "name": "stdout",
     "output_type": "stream",
     "text": [
      "       0    1  2           3       4   5\n",
      "0  17850  임은성  M  1995-02-01  BRONZE  02\n",
      "1  16883  윤제윤  M  1979-09-22  BRONZE  03\n",
      "2  17062  유강산  M  1975-01-17  BRONZE  04\n",
      "3  14443  이미연  F  1986-10-02  BRONZE  02\n",
      "4  14344  김화영  F  1987-07-02  BRONZE  02\n"
     ]
    }
   ],
   "source": [
    "cursor.execute(\"\"\"\n",
    "               SELECT s.customerid\n",
    "               , c.customer_name\n",
    "               , c.gd\n",
    "               , c.birth_dt\n",
    "               , c.grade\n",
    "               , c.sign_up_ch\n",
    "               FROM (\n",
    "               SELECT DISTINCT customerid \n",
    "               FROM sales \n",
    "               WHERE stockcode IN ('21730', '21615')\n",
    "               AND invoicedate BETWEEN '2010-12-01' AND '2010-12-10'\n",
    "               ) as s\n",
    "               JOIN (\n",
    "               SELECT mem_no\n",
    "               , CONCAT(last_name, first_name) AS customer_name\n",
    "               , gd\n",
    "               , birth_dt\n",
    "               , entr_dt\n",
    "               , grade\n",
    "               , sign_up_ch\n",
    "               FROM customer\n",
    "               ) c\n",
    "               on s.customerid = c.mem_no\n",
    "\"\"\")\n",
    "\n",
    "df = pd.DataFrame(cursor.fetchall())\n",
    "print(df.head(5))"
   ]
  },
  {
   "cell_type": "markdown",
   "id": "560ced49",
   "metadata": {},
   "source": [
    "## 미구매 고객 정보 출력"
   ]
  },
  {
   "cell_type": "code",
   "execution_count": 12,
   "id": "edc3e0fa",
   "metadata": {},
   "outputs": [
    {
     "name": "stdout",
     "output_type": "stream",
     "text": [
      "      0      1  2   3       4       5  6                   7     8      9\n",
      "0  None  17850  임  은성  536365  85123A  6 2010-12-01 08:26:00  2.55  17850\n",
      "1  None  17850  임  은성  536365   71053  6 2010-12-01 08:26:00  3.39  17850\n",
      "2  None  17850  임  은성  536365  84406B  8 2010-12-01 08:26:00  2.75  17850\n",
      "3  None  17850  임  은성  536365  84029G  6 2010-12-01 08:26:00  3.39  17850\n",
      "4  None  17850  임  은성  536365  84029E  6 2010-12-01 08:26:00  3.39  17850\n"
     ]
    }
   ],
   "source": [
    "cursor.execute(\"\"\"\n",
    "               SELECT CASE WHEN s.CustomerID IS NULL THEN c.mem_no END non_purchaser\n",
    "               , c.mem_no\n",
    "               , c.last_name\n",
    "               , c.first_name\n",
    "               , s.InvoiceNo\n",
    "               , s.stockcode\n",
    "               , s.quantity\n",
    "               , s.invoicedate\n",
    "               , s.unitprice\n",
    "               , s.customerid\n",
    "               FROM customer c\n",
    "               JOIN sales s\n",
    "               ON c.mem_no = s.customerid\n",
    "\"\"\")\n",
    "\n",
    "df = pd.DataFrame(cursor.fetchall())\n",
    "print(df.head(5))"
   ]
  },
  {
   "cell_type": "markdown",
   "id": "c85117d2",
   "metadata": {},
   "source": [
    "## 전체 고객수, 미구매 고객수"
   ]
  },
  {
   "cell_type": "code",
   "execution_count": 13,
   "id": "76a4e26d",
   "metadata": {},
   "outputs": [
    {
     "name": "stdout",
     "output_type": "stream",
     "text": [
      "   non_purchaser  total_customer\n",
      "0              0            4372\n"
     ]
    }
   ],
   "source": [
    "cursor.execute(\"\"\"\n",
    "               SELECT COUNT(DISTINCT CASE WHEN s.CustomerID IS NULL THEN c.mem_no END ) AS non_purchaser\n",
    "               , COUNT(DISTINCT c.mem_no) AS total_customer\n",
    "               FROM customer c\n",
    "               JOIN sales s\n",
    "               ON c.mem_no = s.CustomerID\n",
    "\"\"\")\n",
    "\n",
    "df = pd.DataFrame(cursor.fetchall(), columns=[\"non_purchaser\", \"total_customer\"])\n",
    "print(df)"
   ]
  },
  {
   "cell_type": "markdown",
   "id": "5a992d6b",
   "metadata": {},
   "source": [
    "## 매출 평균 지표"
   ]
  },
  {
   "cell_type": "code",
   "execution_count": 14,
   "id": "757add39",
   "metadata": {},
   "outputs": [
    {
     "name": "stdout",
     "output_type": "stream",
     "text": [
      "          매출액     주문수량   주문건수  주문고객수         ATV          AMV    AvgFrq  \\\n",
      "0  8300065.81  4906888  22190   4372  374.045327  1898.459700  5.075480   \n",
      "\n",
      "     AvgUnits  \n",
      "0  221.130599  \n"
     ]
    }
   ],
   "source": [
    "cursor.execute(\"\"\"\n",
    "                SELECT SUM(unitprice*quantity) AS 매출액\n",
    "               , SUM(quantity) AS 주문수량\n",
    "               , COUNT(DISTINCT invoiceno) AS 주문건수\n",
    "               , COUNT(DISTINCT customerid) AS 주문고객수\n",
    "               , SUM(unitprice*quantity) / COUNT(DISTINCT invoiceno) AS ATV\n",
    "               , SUM(unitprice*quantity) / COUNT(DISTINCT customerid) AS AMV\n",
    "               , COUNT(DISTINCT invoiceno) * 1.00 / COUNT(DISTINCT customerid) AS  AvgFrq\n",
    "               , SUM(quantity) * 1.00 / COUNT(DISTINCT invoiceno) AS AvgUnits\n",
    "               FROM sales\n",
    "\"\"\")\n",
    "\n",
    "col = [\"매출액\", \"주문수량\", \"주문건수\", \"주문고객수\", \"ATV\", \"AMV\", \"AvgFrq\", \"AvgUnits\"]\n",
    "df = pd.DataFrame(cursor.fetchall(), columns=col)\n",
    "print(df)"
   ]
  },
  {
   "cell_type": "markdown",
   "id": "ae8286db",
   "metadata": {},
   "source": [
    "## 매출 평균 지표 (연도, 월별)"
   ]
  },
  {
   "cell_type": "code",
   "execution_count": 15,
   "id": "e3894ee5",
   "metadata": {},
   "outputs": [
    {
     "ename": "ProgrammingError",
     "evalue": "1055 (42000): Expression #3 of SELECT list is not in GROUP BY clause and contains nonaggregated column '분석실습.sales.UnitPrice' which is not functionally dependent on columns in GROUP BY clause; this is incompatible with sql_mode=only_full_group_by",
     "output_type": "error",
     "traceback": [
      "\u001b[31m---------------------------------------------------------------------------\u001b[39m",
      "\u001b[31mMySQLInterfaceError\u001b[39m                       Traceback (most recent call last)",
      "\u001b[36mFile \u001b[39m\u001b[32mc:\\Users\\Admin\\miniconda3\\envs\\hipython\\Lib\\site-packages\\mysql\\connector\\connection_cext.py:772\u001b[39m, in \u001b[36mCMySQLConnection.cmd_query\u001b[39m\u001b[34m(self, query, raw, buffered, raw_as_string, **kwargs)\u001b[39m\n\u001b[32m    770\u001b[39m     \u001b[38;5;28mself\u001b[39m._local_infile_filenames = \u001b[38;5;28;01mNone\u001b[39;00m\n\u001b[32m--> \u001b[39m\u001b[32m772\u001b[39m     \u001b[38;5;28mself\u001b[39m._cmysql.query(\n\u001b[32m    773\u001b[39m         query,\n\u001b[32m    774\u001b[39m         raw=raw,\n\u001b[32m    775\u001b[39m         buffered=buffered,\n\u001b[32m    776\u001b[39m         raw_as_string=raw_as_string,\n\u001b[32m    777\u001b[39m         query_attrs=\u001b[38;5;28mself\u001b[39m.query_attrs,\n\u001b[32m    778\u001b[39m     )\n\u001b[32m    779\u001b[39m \u001b[38;5;28;01mexcept\u001b[39;00m MySQLInterfaceError \u001b[38;5;28;01mas\u001b[39;00m err:\n",
      "\u001b[31mMySQLInterfaceError\u001b[39m: Expression #3 of SELECT list is not in GROUP BY clause and contains nonaggregated column '분석실습.sales.UnitPrice' which is not functionally dependent on columns in GROUP BY clause; this is incompatible with sql_mode=only_full_group_by",
      "\nThe above exception was the direct cause of the following exception:\n",
      "\u001b[31mProgrammingError\u001b[39m                          Traceback (most recent call last)",
      "\u001b[36mCell\u001b[39m\u001b[36m \u001b[39m\u001b[32mIn[15]\u001b[39m\u001b[32m, line 1\u001b[39m\n\u001b[32m----> \u001b[39m\u001b[32m1\u001b[39m cursor.execute(\u001b[33m\"\"\"\u001b[39m\n\u001b[32m      2\u001b[39m \u001b[33m               SELECT  YEAR(invoicedate)\u001b[39m\n\u001b[32m      3\u001b[39m \u001b[33m               , MONTH(invoicedate)\u001b[39m\n\u001b[32m      4\u001b[39m \u001b[33m               , (unitprice*quantity) AS 매출액\u001b[39m\n\u001b[32m      5\u001b[39m \u001b[33m               , SUM(quantity) AS 주문수량\u001b[39m\n\u001b[32m      6\u001b[39m \u001b[33m               , COUNT(DISTINCT invoiceno) AS 주문건수\u001b[39m\n\u001b[32m      7\u001b[39m \u001b[33m               , COUNT(DISTINCT customerid) AS 주문고객수\u001b[39m\n\u001b[32m      8\u001b[39m \u001b[33m               , SUM(unitprice*quantity) / COUNT(DISTINCT invoiceno) AS ATV\u001b[39m\n\u001b[32m      9\u001b[39m \u001b[33m               , SUM(unitprice*quantity) / COUNT(DISTINCT customerid) AS AMV\u001b[39m\n\u001b[32m     10\u001b[39m \u001b[33m               , COUNT(DISTINCT invoiceno) * 1.00 / COUNT(DISTINCT customerid) AS  AvgFrq\u001b[39m\n\u001b[32m     11\u001b[39m \u001b[33m               , SUM(quantity) * 1.00 / COUNT(DISTINCT invoiceno) AS AvgUnits\u001b[39m\n\u001b[32m     12\u001b[39m \u001b[33m               FROM sales\u001b[39m\n\u001b[32m     13\u001b[39m \u001b[33m               GROUP BY YEAR(invoicedate)\u001b[39m\n\u001b[32m     14\u001b[39m \u001b[33m               , MONTH(invoicedate)\u001b[39m\n\u001b[32m     15\u001b[39m \u001b[33m               ORDER BY 1, 2\u001b[39m\n\u001b[32m     16\u001b[39m \u001b[33m\"\"\"\u001b[39m)\n\u001b[32m     18\u001b[39m df = pd.DataFrame(cursor.fetchall())\n\u001b[32m     19\u001b[39m \u001b[38;5;28mprint\u001b[39m(df.head(\u001b[32m2\u001b[39m))\n",
      "\u001b[36mFile \u001b[39m\u001b[32mc:\\Users\\Admin\\miniconda3\\envs\\hipython\\Lib\\site-packages\\mysql\\connector\\cursor_cext.py:356\u001b[39m, in \u001b[36mCMySQLCursor.execute\u001b[39m\u001b[34m(self, operation, params, map_results)\u001b[39m\n\u001b[32m    348\u001b[39m \u001b[38;5;28mself\u001b[39m._executed = (\n\u001b[32m    349\u001b[39m     \u001b[38;5;28mself\u001b[39m._stmt_partition[\u001b[33m\"\u001b[39m\u001b[33msingle_stmts\u001b[39m\u001b[33m\"\u001b[39m].popleft()\n\u001b[32m    350\u001b[39m     \u001b[38;5;28;01mif\u001b[39;00m map_results\n\u001b[32m    351\u001b[39m     \u001b[38;5;28;01melse\u001b[39;00m \u001b[38;5;28mself\u001b[39m._stmt_partition[\u001b[33m\"\u001b[39m\u001b[33mmappable_stmt\u001b[39m\u001b[33m\"\u001b[39m]\n\u001b[32m    352\u001b[39m )\n\u001b[32m    354\u001b[39m \u001b[38;5;28;01mtry\u001b[39;00m:\n\u001b[32m    355\u001b[39m     \u001b[38;5;28mself\u001b[39m._handle_result(\n\u001b[32m--> \u001b[39m\u001b[32m356\u001b[39m         \u001b[38;5;28mself\u001b[39m._connection.cmd_query(\n\u001b[32m    357\u001b[39m             \u001b[38;5;28mself\u001b[39m._stmt_partition[\u001b[33m\"\u001b[39m\u001b[33mmappable_stmt\u001b[39m\u001b[33m\"\u001b[39m],\n\u001b[32m    358\u001b[39m             raw=\u001b[38;5;28mself\u001b[39m._raw,\n\u001b[32m    359\u001b[39m             buffered=\u001b[38;5;28mself\u001b[39m._buffered,\n\u001b[32m    360\u001b[39m             raw_as_string=\u001b[38;5;28mself\u001b[39m._raw_as_string,\n\u001b[32m    361\u001b[39m         )\n\u001b[32m    362\u001b[39m     )\n\u001b[32m    363\u001b[39m \u001b[38;5;28;01mexcept\u001b[39;00m MySQLInterfaceError \u001b[38;5;28;01mas\u001b[39;00m err:\n\u001b[32m    364\u001b[39m     \u001b[38;5;28;01mif\u001b[39;00m \u001b[38;5;28mhasattr\u001b[39m(err, \u001b[33m\"\u001b[39m\u001b[33merrno\u001b[39m\u001b[33m\"\u001b[39m):\n",
      "\u001b[36mFile \u001b[39m\u001b[32mc:\\Users\\Admin\\miniconda3\\envs\\hipython\\Lib\\site-packages\\mysql\\connector\\opentelemetry\\context_propagation.py:97\u001b[39m, in \u001b[36mwith_context_propagation.<locals>.wrapper\u001b[39m\u001b[34m(cnx, *args, **kwargs)\u001b[39m\n\u001b[32m     95\u001b[39m \u001b[38;5;66;03m# pylint: disable=possibly-used-before-assignment\u001b[39;00m\n\u001b[32m     96\u001b[39m \u001b[38;5;28;01mif\u001b[39;00m \u001b[38;5;129;01mnot\u001b[39;00m OTEL_ENABLED \u001b[38;5;129;01mor\u001b[39;00m \u001b[38;5;129;01mnot\u001b[39;00m cnx.otel_context_propagation:\n\u001b[32m---> \u001b[39m\u001b[32m97\u001b[39m     \u001b[38;5;28;01mreturn\u001b[39;00m method(cnx, *args, **kwargs)\n\u001b[32m     99\u001b[39m current_span = trace.get_current_span()\n\u001b[32m    100\u001b[39m tp_header = \u001b[38;5;28;01mNone\u001b[39;00m\n",
      "\u001b[36mFile \u001b[39m\u001b[32mc:\\Users\\Admin\\miniconda3\\envs\\hipython\\Lib\\site-packages\\mysql\\connector\\connection_cext.py:781\u001b[39m, in \u001b[36mCMySQLConnection.cmd_query\u001b[39m\u001b[34m(self, query, raw, buffered, raw_as_string, **kwargs)\u001b[39m\n\u001b[32m    779\u001b[39m \u001b[38;5;28;01mexcept\u001b[39;00m MySQLInterfaceError \u001b[38;5;28;01mas\u001b[39;00m err:\n\u001b[32m    780\u001b[39m     \u001b[38;5;28;01mif\u001b[39;00m \u001b[38;5;28mhasattr\u001b[39m(err, \u001b[33m\"\u001b[39m\u001b[33merrno\u001b[39m\u001b[33m\"\u001b[39m):\n\u001b[32m--> \u001b[39m\u001b[32m781\u001b[39m         \u001b[38;5;28;01mraise\u001b[39;00m get_mysql_exception(\n\u001b[32m    782\u001b[39m             err.errno, msg=err.msg, sqlstate=err.sqlstate\n\u001b[32m    783\u001b[39m         ) \u001b[38;5;28;01mfrom\u001b[39;00m\u001b[38;5;250m \u001b[39m\u001b[34;01merr\u001b[39;00m\n\u001b[32m    784\u001b[39m     \u001b[38;5;28;01mraise\u001b[39;00m InterfaceError(\u001b[38;5;28mstr\u001b[39m(err)) \u001b[38;5;28;01mfrom\u001b[39;00m\u001b[38;5;250m \u001b[39m\u001b[34;01merr\u001b[39;00m\n\u001b[32m    785\u001b[39m \u001b[38;5;28;01mexcept\u001b[39;00m \u001b[38;5;167;01mAttributeError\u001b[39;00m \u001b[38;5;28;01mas\u001b[39;00m err:\n",
      "\u001b[31mProgrammingError\u001b[39m: 1055 (42000): Expression #3 of SELECT list is not in GROUP BY clause and contains nonaggregated column '분석실습.sales.UnitPrice' which is not functionally dependent on columns in GROUP BY clause; this is incompatible with sql_mode=only_full_group_by"
     ]
    }
   ],
   "source": [
    "cursor.execute(\"\"\"\n",
    "               SELECT  YEAR(invoicedate)\n",
    "               , MONTH(invoicedate)\n",
    "               , (unitprice*quantity) AS 매출액\n",
    "               , SUM(quantity) AS 주문수량\n",
    "               , COUNT(DISTINCT invoiceno) AS 주문건수\n",
    "               , COUNT(DISTINCT customerid) AS 주문고객수\n",
    "               , SUM(unitprice*quantity) / COUNT(DISTINCT invoiceno) AS ATV\n",
    "               , SUM(unitprice*quantity) / COUNT(DISTINCT customerid) AS AMV\n",
    "               , COUNT(DISTINCT invoiceno) * 1.00 / COUNT(DISTINCT customerid) AS  AvgFrq\n",
    "               , SUM(quantity) * 1.00 / COUNT(DISTINCT invoiceno) AS AvgUnits\n",
    "               FROM sales\n",
    "               GROUP BY YEAR(invoicedate)\n",
    "               , MONTH(invoicedate)\n",
    "               ORDER BY 1, 2\n",
    "\"\"\")\n",
    "\n",
    "df = pd.DataFrame(cursor.fetchall())\n",
    "print(df.head(2))"
   ]
  },
  {
   "cell_type": "markdown",
   "id": "36973b6f",
   "metadata": {},
   "source": [
    "## 특정연도 베스트 셀링 상품 확인"
   ]
  },
  {
   "cell_type": "code",
   "execution_count": 20,
   "id": "c56781ca",
   "metadata": {},
   "outputs": [
    {
     "name": "stdout",
     "output_type": "stream",
     "text": [
      "        0                                   1      2\n",
      "0   84077   WORLD WAR 2 GLIDERS ASSTD DESIGNS  48076\n",
      "1  85099B             JUMBO BAG RED RETROSPOT  43036\n",
      "2   84879       ASSORTED COLOUR BIRD ORNAMENT  33047\n",
      "3  85123A  WHITE HANGING HEART T-LIGHT HOLDER  31064\n",
      "4   22197                      POPCORN HOLDER  30504\n",
      "5   21212     PACK OF 72 RETROSPOT CAKE CASES  29867\n",
      "6   23084                  RABBIT NIGHT LIGHT  27094\n",
      "7   22492             MINI PAINT SET VINTAGE   23180\n",
      "8   22616          PACK OF 12 LONDON TISSUES   22665\n",
      "9   21977  PACK OF 60 PINK PAISLEY CAKE CASES  22531\n"
     ]
    }
   ],
   "source": [
    "cursor.execute(\"\"\"\n",
    "               SELECT stockcode\n",
    "               , description\n",
    "               , SUM(quantity) as qty\n",
    "               FROM sales\n",
    "               WHERE YEAR(invoicedate) = '2011'\n",
    "               GROUP BY stockcode\n",
    "               , description\n",
    "               ORDER BY qty DESC\n",
    "\"\"\")\n",
    "\n",
    "df = pd.DataFrame(cursor.fetchall())\n",
    "print(df.head(10))"
   ]
  },
  {
   "cell_type": "markdown",
   "id": "72250373",
   "metadata": {},
   "source": [
    "## 국가별 베스트상품"
   ]
  },
  {
   "cell_type": "code",
   "execution_count": 24,
   "id": "9f52ae4d",
   "metadata": {},
   "outputs": [
    {
     "name": "stdout",
     "output_type": "stream",
     "text": [
      "    0          1      2                              3     4\n",
      "0   1  Australia  22492        MINI PAINT SET VINTAGE   2916\n",
      "1   2  Australia  23084             RABBIT NIGHT LIGHT  1884\n",
      "2   3  Australia  21915         RED  HARMONICA IN BOX   1704\n",
      "3   4  Australia  21731  RED TOADSTOOL LED NIGHT LIGHT  1344\n",
      "4   5  Australia  22630           DOLLY GIRL LUNCH BOX  1024\n",
      "5   6  Australia  22969   HOMEMADE JAM SCENTED CANDLES   994\n",
      "6   7  Australia  22629            SPACEBOY LUNCH BOX    960\n",
      "7   8  Australia  22544           MINI JIGSAW SPACEBOY   720\n",
      "8   9  Australia  21914         BLUE HARMONICA IN BOX    720\n",
      "9  10  Australia  22620    4 TRADITIONAL SPINNING TOPS   700\n"
     ]
    }
   ],
   "source": [
    "cursor.execute(\"\"\"\n",
    "               SELECT ROW_NUMBER() OVER (PARTITION BY country ORDER BY qty DESC) AS rnk\n",
    "                    , country\n",
    "                    , stockcode\n",
    "                    , description\n",
    "                    , qty\n",
    "               FROM (\n",
    "                    SELECT country\n",
    "                    , stockcode\n",
    "                    , description\n",
    "                    , SUM(quantity) as qty\n",
    "                    FROM sales\n",
    "                    GROUP BY country\n",
    "                    , stockcode\n",
    "                    , description\n",
    "               ) a\n",
    "               ORDER BY 2, 1\n",
    "\"\"\")\n",
    "\n",
    "df = pd.DataFrame(cursor.fetchall())\n",
    "print(df.head(10))"
   ]
  },
  {
   "cell_type": "markdown",
   "id": "0a2a66f6",
   "metadata": {},
   "source": [
    "## 20대 여성 고객의 베스트셀링 상품 확인"
   ]
  },
  {
   "cell_type": "code",
   "execution_count": 2,
   "id": "b756d076",
   "metadata": {},
   "outputs": [
    {
     "name": "stdout",
     "output_type": "stream",
     "text": [
      "    0       1                                  2     3\n",
      "0   1   22492            MINI PAINT SET VINTAGE   3527\n",
      "1   2   22151          PLACE SETTING WHITE HEART  3150\n",
      "2   3  85099B            JUMBO BAG RED RETROSPOT  2444\n",
      "3   4   23084                 RABBIT NIGHT LIGHT  2424\n",
      "4   5   21915             RED  HARMONICA IN BOX   2421\n",
      "5   6   22178    VICTORIAN GLASS HANGING T-LIGHT  1792\n",
      "6   7   79321                      CHILLI LIGHTS  1786\n",
      "7   8   23167     SMALL CERAMIC TOP STORAGE JAR   1786\n",
      "8   9   84077  WORLD WAR 2 GLIDERS ASSTD DESIGNS  1779\n",
      "9  10   21137           BLACK RECORD COVER FRAME  1598\n"
     ]
    }
   ],
   "source": [
    "cursor.execute(\"\"\"\n",
    "               SELECT *\n",
    "               FROM (\n",
    "               SELECT ROW_NUMBER() OVER (ORDER BY qty DESC) AS rnk\n",
    "                    , stockcode\n",
    "                    , description\n",
    "                    , qty\n",
    "               FROM (\n",
    "               SELECT stockcode\n",
    "               , description\n",
    "               , SUM(quantity) as qty\n",
    "               FROM sales s\n",
    "               JOIN customer c\n",
    "               ON s.customerid = c.mem_no\n",
    "               WHERE c.gd = 'F'\n",
    "               AND 2023-year(c.birth_dt) BETWEEN '20' AND '29'\n",
    "               GROUP BY stockcode\n",
    "               , description\n",
    "               ) a\n",
    "               ) aa\n",
    "               WHERE rnk <= 10\n",
    "\"\"\")\n",
    "\n",
    "df = pd.DataFrame(cursor.fetchall())\n",
    "print(df.head(10))"
   ]
  },
  {
   "cell_type": "markdown",
   "id": "ba52d188",
   "metadata": {},
   "source": [
    "## 특정 제품과 함께 가장 많이 구매한 제품"
   ]
  },
  {
   "cell_type": "code",
   "execution_count": 3,
   "id": "46750e4d",
   "metadata": {},
   "outputs": [
    {
     "name": "stdout",
     "output_type": "stream",
     "text": [
      "        0\n",
      "0  536378\n",
      "1  536401\n",
      "2  536412\n",
      "3  536577\n",
      "4  536769\n",
      "5  536845\n",
      "6  536863\n",
      "7  536944\n",
      "8  536974\n",
      "9  537047\n"
     ]
    }
   ],
   "source": [
    "cursor.execute(\"\"\"\n",
    "               SELECT DISTINCT invoiceno\n",
    "               FROM sales\n",
    "               WHERE stockcode = '20725'\n",
    "               \"\"\")\n",
    "\n",
    "\n",
    "df = pd.DataFrame(cursor.fetchall())\n",
    "print(df.head(10))"
   ]
  },
  {
   "cell_type": "code",
   "execution_count": 8,
   "id": "92cf2c3b",
   "metadata": {},
   "outputs": [
    {
     "name": "stdout",
     "output_type": "stream",
     "text": [
      "        0                                1     2\n",
      "0  85099B          JUMBO BAG RED RETROSPOT  8510\n",
      "1   22384          LUNCH BAG PINK POLKADOT  5925\n",
      "2   21212  PACK OF 72 RETROSPOT CAKE CASES  5422\n",
      "3   20727          LUNCH BAG  BLACK SKULL.  5305\n",
      "4   20728              LUNCH BAG CARS BLUE  5009\n",
      "5   20726               LUNCH BAG WOODLAND  4986\n",
      "6   22383           LUNCH BAG SUKI DESIGN   4874\n",
      "7   23206           LUNCH BAG APPLE DESIGN  4775\n",
      "8   22382       LUNCH BAG SPACEBOY DESIGN   4391\n",
      "9   84879    ASSORTED COLOUR BIRD ORNAMENT  3734\n"
     ]
    }
   ],
   "source": [
    "cursor.execute(\"\"\"\n",
    "               SELECT s.stockcode\n",
    "               , s.description\n",
    "               , SUM(quantity) as qty\n",
    "               FROM sales s\n",
    "               INNER\n",
    "               JOIN (\n",
    "               SELECT DISTINCT invoiceno\n",
    "               FROM sales\n",
    "               WHERE stockcode = '20725'\n",
    "               ) i\n",
    "               ON s.invoiceno = i.invoiceno\n",
    "               WHERE s.stockcode <> '20725'\n",
    "               GROUP BY s.stockcode\n",
    "               , s.description\n",
    "               ORDER BY qty DESC\n",
    "               \"\"\")\n",
    "\n",
    "\n",
    "df = pd.DataFrame(cursor.fetchall())\n",
    "print(df.head(10))"
   ]
  },
  {
   "cell_type": "markdown",
   "id": "f87a4d3f",
   "metadata": {},
   "source": [
    "## LUNCH 제외"
   ]
  },
  {
   "cell_type": "code",
   "execution_count": 9,
   "id": "46fb1f9b",
   "metadata": {},
   "outputs": [
    {
     "name": "stdout",
     "output_type": "stream",
     "text": [
      "        0                                  1     2\n",
      "0  85099B            JUMBO BAG RED RETROSPOT  8510\n",
      "1   21212    PACK OF 72 RETROSPOT CAKE CASES  5422\n",
      "2   84879      ASSORTED COLOUR BIRD ORNAMENT  3734\n",
      "3   22386            JUMBO BAG PINK POLKADOT  3655\n",
      "4   20724        RED RETROSPOT CHARLOTTE BAG  3583\n",
      "5   23084                 RABBIT NIGHT LIGHT  3544\n",
      "6   21931             JUMBO STORAGE BAG SUKI  3163\n",
      "7   22492            MINI PAINT SET VINTAGE   2958\n",
      "8   84077  WORLD WAR 2 GLIDERS ASSTD DESIGNS  2873\n",
      "9   21731      RED TOADSTOOL LED NIGHT LIGHT  2868\n"
     ]
    }
   ],
   "source": [
    "cursor.execute(\"\"\"\n",
    "               SELECT s.stockcode\n",
    "               , s.description\n",
    "               , SUM(quantity) as qty\n",
    "               FROM sales s\n",
    "               INNER\n",
    "               JOIN (\n",
    "               SELECT DISTINCT invoiceno\n",
    "               FROM sales\n",
    "               WHERE stockcode = '20725'\n",
    "               ) i\n",
    "               ON s.invoiceno = i.invoiceno\n",
    "               WHERE s.stockcode <> '20725'\n",
    "               AND s.description NOT LIKE '%LUNCH%'\n",
    "               GROUP BY s.stockcode\n",
    "               , s.description\n",
    "               ORDER BY qty DESC\n",
    "               \"\"\")\n",
    "\n",
    "\n",
    "df = pd.DataFrame(cursor.fetchall())\n",
    "print(df.head(10))"
   ]
  },
  {
   "cell_type": "markdown",
   "id": "cb601cab",
   "metadata": {},
   "source": [
    "## 재구매 고객 확인"
   ]
  },
  {
   "cell_type": "code",
   "execution_count": 13,
   "id": "26d490c5",
   "metadata": {},
   "outputs": [
    {
     "name": "stdout",
     "output_type": "stream",
     "text": [
      "   repurcharser_count\n",
      "0                3058\n"
     ]
    }
   ],
   "source": [
    "cursor.execute(\"\"\"\n",
    "               SELECT COUNT(DISTINCT customerid) AS repurcharser_count\n",
    "               FROM (\n",
    "               SELECT customerid, COUNT(DISTINCT invoicedate) AS frq\n",
    "               FROM sales\n",
    "               WHERE customerid <> ''\n",
    "               GROUP BY customerid\n",
    "               HAVING  COUNT(DISTINCT invoicedate) >= 2\n",
    "               ) a\n",
    "               \"\"\")\n",
    "\n",
    "\n",
    "df = pd.DataFrame(cursor.fetchall(), columns=['repurcharser_count'])\n",
    "print(df)"
   ]
  },
  {
   "cell_type": "markdown",
   "id": "dc228142",
   "metadata": {},
   "source": [
    "## 특정 제품의 재구매 고객수와 구매일자 순서"
   ]
  },
  {
   "cell_type": "code",
   "execution_count": null,
   "id": "937cf8c7",
   "metadata": {},
   "outputs": [],
   "source": []
  },
  {
   "cell_type": "code",
   "execution_count": null,
   "id": "facc5a78",
   "metadata": {},
   "outputs": [],
   "source": []
  }
 ],
 "metadata": {
  "kernelspec": {
   "display_name": "hipython",
   "language": "python",
   "name": "python3"
  },
  "language_info": {
   "codemirror_mode": {
    "name": "ipython",
    "version": 3
   },
   "file_extension": ".py",
   "mimetype": "text/x-python",
   "name": "python",
   "nbconvert_exporter": "python",
   "pygments_lexer": "ipython3",
   "version": "3.12.3"
  }
 },
 "nbformat": 4,
 "nbformat_minor": 5
}
